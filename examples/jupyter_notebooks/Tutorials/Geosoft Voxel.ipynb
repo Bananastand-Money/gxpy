{
 "cells": [
  {
   "cell_type": "markdown",
   "metadata": {},
   "source": [
    "# Geosoft Voxels\n",
    "\n",
    "An important geoscience data structure is a voxel (voxset), which is a 3D cell-based model of the subsurface volume of part of the Earth. Voxel models are commonly used to represent some property of the subsurface in which the entire volume of interest is subdivided into cells, each with a value that represents a property of the cell volume. In the example below we present a VOXI density model of the R.J. Smith test range from Western Australia.\n",
    "\n",
    "We work with voxels using the ```Vox``` class and the ```Vox_display``` class.  The ```Vox``` class can be used to open a Geosoft voxel or create a new Geosoft voxel, and the ```Vox_display``` class can create a visualization of a voxel that can be placed in a 3D view.\n",
    "\n",
    "## What You Will Learn\n",
    "\n",
    "1. How to open an existing Geosoft voxel.\n",
    "2. How to see the properties of a Geosoft Voxel.\n",
    "2. How to view a Geosoft voxel.\n",
    "\n",
    "> Some features in this notebook may require a Geosoft End-User License/Subscription."
   ]
  },
  {
   "cell_type": "markdown",
   "metadata": {},
   "source": [
    "## Python imports, GX context and get exrcise data from GitHub"
   ]
  },
  {
   "cell_type": "code",
   "execution_count": 1,
   "metadata": {},
   "outputs": [
    {
     "data": {
      "text/plain": [
       "'rjsmith_voxi_density.geosoft_voxel.xml'"
      ]
     },
     "execution_count": 1,
     "metadata": {},
     "output_type": "execute_result"
    }
   ],
   "source": [
    "import geosoft.gxpy.gx as gx\n",
    "import geosoft.gxpy.view as gxview\n",
    "import geosoft.gxpy.group as gxgroup\n",
    "import geosoft.gxpy.vox as gxvox\n",
    "import geosoft.gxpy.vox_display as gxvoxd\n",
    "import geosoft.gxpy.viewer as gxviewer\n",
    "import geosoft.gxpy.utility as gxu\n",
    "import geosoft.gxpy.map as gxmap\n",
    "from IPython.display import Image\n",
    "import numpy as np\n",
    "\n",
    "gxc = gx.GXpy()\n",
    "\n",
    "vox_file = 'rjsmith_voxi_density.geosoft_voxel'\n",
    "url = 'https://github.com/GeosoftInc/gxpy/raw/master/examples/tutorial/Geosoft%20Voxels/'\n",
    "gxu.url_retrieve(url + vox_file)\n",
    "gxu.url_retrieve(url + vox_file + '.xml')"
   ]
  },
  {
   "cell_type": "markdown",
   "metadata": {},
   "source": [
    "## Voxel properties"
   ]
  },
  {
   "cell_type": "code",
   "execution_count": 2,
   "metadata": {},
   "outputs": [
    {
     "name": "stdout",
     "output_type": "stream",
     "text": [
      "rjsmith_voxi_density\n",
      "dimensions (nx, ny, nz): 143 148 29\n",
      "coordinate system: WGS 84 / MGA zone 50\n",
      "surface extent: (501749.99999999994, 6466950.000000001, 508899.99999999994, 6474350.000000001)\n",
      "volume extent: (501749.99999999994, 6466950.000000001, -1569.558498818539, 508899.99999999994, 6474350.000000001, 358.0899999999994)\n",
      "origin location: (501774.99999999994, 6466975.000000001, -1490.2937396030375)\n",
      "unit of measure: g/cc\n",
      "depth cell sizes in m , from the bottom:\n",
      "\t 158.529518431\n",
      "\t 146.78659114\n",
      "\t 135.913510315\n",
      "\t 125.845842884\n",
      "\t 116.523928596\n",
      "\t 107.892526478\n",
      "\t 99.9004874796\n",
      "\t 92.50045137\n",
      "\t 85.6485660834\n",
      "\t 79.304227855\n",
      "\t 73.4298406064\n",
      "\t 67.9905931541\n",
      "\t 62.9542529205\n",
      "\t 58.2909749264\n",
      "\t 53.9731249318\n",
      "\t 49.9751156776\n",
      "\t 46.273255257\n",
      "\t 42.8456067195\n",
      "\t 39.6718580736\n",
      "\t 36.73320192\n",
      "\t 34.012224\n",
      "\t 31.4928\n",
      "\t 29.16\n",
      "\t 27.0\n",
      "\t 25.0\n",
      "\t 25.0\n",
      "\t 25.0\n",
      "\t 25.0\n",
      "\t 25.0\n"
     ]
    }
   ],
   "source": [
    "# open the vox\n",
    "with gxvox.Vox.open(vox_file) as vox:\n",
    "    \n",
    "    # show some of the vox properties\n",
    "    print(vox.name)\n",
    "    print('dimensions (nx, ny, nz):', vox.nx, vox.ny, vox.nz)\n",
    "    print('coordinate system:', vox.coordinate_system)\n",
    "    print('surface extent:', vox.extent_2d)\n",
    "    print('volume extent:', vox.extent)\n",
    "    print('origin location:', (vox.origin_x, vox.origin_y, vox.origin_z))\n",
    "    print('unit of measure:', vox.unit_of_measure)\n",
    "    print('depth cell sizes in', vox.coordinate_system.unit_of_measure, ', from the bottom:')\n",
    "    for cell in vox.cells_z:\n",
    "        print('\\t', cell)"
   ]
  },
  {
   "cell_type": "markdown",
   "metadata": {},
   "source": [
    "### Voxels referenced by elevation, or by depth\n",
    "\n",
    "The vertical dimension of a voxel (the 'z' dimension), can be referenced by elevation or by depth.  If referenced by elevation, which is the default, the positive z direction is up and values can be assumed to represent elevations relative to the vertical reference datum of the coordinate system. Also, when referenced by elevation, the voxel origin is on the bottom slice of the voxel and z arrays of voxel cells sizes or locations start at the bottom and sequence up, in the positive direction.\n",
    "\n",
    "You can also choose to work with a voxel by depth, either by setting the ```depth=True``` parameter when a new voxel is created, or an existing voxel is openned, or by changing the ```is_depth``` property to ```True```.\n",
    "\n",
    "For example, here we change the reference to depth and print depth-based properties. Note the z property differences from the example above."
   ]
  },
  {
   "cell_type": "code",
   "execution_count": 3,
   "metadata": {},
   "outputs": [
    {
     "name": "stdout",
     "output_type": "stream",
     "text": [
      "rjsmith_voxi_density properties by depth...\n",
      "volume extent: (501749.99999999994, 6466950.000000001, -358.0899999999994, 508899.99999999994, 6474350.000000001, 1569.558498818539)\n",
      "origin location: (501774.99999999994, 6466975.000000001, -345.58999999999912)\n",
      "depth cell sizes in m , from the top:\n",
      "\t 25.0\n",
      "\t 25.0\n",
      "\t 25.0\n",
      "\t 25.0\n",
      "\t 25.0\n",
      "\t 27.0\n",
      "\t 29.16\n",
      "\t 31.4928\n",
      "\t 34.012224\n",
      "\t 36.73320192\n",
      "\t 39.6718580736\n",
      "\t 42.8456067195\n",
      "\t 46.273255257\n",
      "\t 49.9751156776\n",
      "\t 53.9731249318\n",
      "\t 58.2909749264\n",
      "\t 62.9542529205\n",
      "\t 67.9905931541\n",
      "\t 73.4298406064\n",
      "\t 79.304227855\n",
      "\t 85.6485660834\n",
      "\t 92.50045137\n",
      "\t 99.9004874796\n",
      "\t 107.892526478\n",
      "\t 116.523928596\n",
      "\t 125.845842884\n",
      "\t 135.913510315\n",
      "\t 146.78659114\n",
      "\t 158.529518431\n"
     ]
    }
   ],
   "source": [
    "# open the vox\n",
    "with gxvox.Vox.open(vox_file, depth=True) as vox:\n",
    "    \n",
    "    # show some of the vox properties\n",
    "    print(vox.name, 'properties by depth...')\n",
    "    print('volume extent:', vox.extent)\n",
    "    print('origin location:', (vox.origin_x, vox.origin_y, vox.origin_z))\n",
    "    print('depth cell sizes in', vox.coordinate_system.unit_of_measure, ', from the top:')\n",
    "    for cell in vox.cells_z:\n",
    "        print('\\t', cell)"
   ]
  },
  {
   "cell_type": "markdown",
   "metadata": {},
   "source": [
    "## View the voxel"
   ]
  },
  {
   "cell_type": "code",
   "execution_count": 4,
   "metadata": {},
   "outputs": [
    {
     "data": {
      "image/png": "[encoded data removed]",
      "text/plain": [
       "<IPython.core.display.Image object>"
      ]
     },
     "execution_count": 4,
     "metadata": {},
     "output_type": "execute_result"
    }
   ],
   "source": [
    "# open the vox\n",
    "with gxvox.Vox.open(vox_file) as vox:\n",
    "    \n",
    "    # create a display instance\n",
    "    with gxvoxd.Vox_display.new(vox) as voxd:\n",
    "        \n",
    "        # limit the display to densities above 0.005 g/cc\n",
    "        voxd.shell_limits = (0.005, None)\n",
    "        \n",
    "        # Create a title and include the coordinate system.\n",
    "        title = \"VOXI Density Model - RJ Smith Test Range\" + '\\n' + str(vox.coordinate_system)\n",
    "        \n",
    "        # create a figure map for the vox. This creates a 3D view that is placed on a map and annotated \n",
    "        # to create a default presentation figure. By not specifying a name for the map a temporary map\n",
    "        # is created only for the life of this Python session.\n",
    "        vox_map_file = voxd.figure_map(title=title, legend_label='density\\ng/cc').file_name\n",
    "\n",
    "# create a PNG from the figure map and display in Jupyter\n",
    "Image(gxmap.Map.open(vox_map_file).image_file(pix_width=800))"
   ]
  },
  {
   "cell_type": "markdown",
   "metadata": {},
   "source": [
    "## Show a voxel in the Geosoft 3D viewer\n",
    "\n",
    "In this example we depend on the creation of a temporary ```geosoft_3dv``` file, which will only exist during the life of the Geosoft context. If you would like the ```geosoft_3dv``` file to persist you must provide a ```file_name=``` parameter in the ```gxview.View_3d.new()``` statement."
   ]
  },
  {
   "cell_type": "code",
   "execution_count": 5,
   "metadata": {
    "collapsed": true
   },
   "outputs": [],
   "source": [
    "# create a display instance\n",
    "with gxvoxd.Vox_display.new(gxvox.Vox.open(vox_file)) as voxd:\n",
    "\n",
    "    # limit the display to densities above 0.005 g/cc\n",
    "    voxd.shell_limits = (0.005, None)\n",
    "\n",
    "    with gxview.View_3d.new() as v3d:\n",
    "        gxgroup.Vox_display_group.new(v3d, voxd)\n",
    "        v3d_file = v3d.file_name\n",
    "\n",
    "gxviewer.view_document(v3d_file, wait_for_close=False)"
   ]
  },
  {
   "cell_type": "markdown",
   "metadata": {},
   "source": [
    "## New voxel from a numpy data array\n",
    "\n",
    "A simple way to create a new voxel is to collect the voxel data into a 3D numpy array in which each dimension represents the cells in the X, Y and Z spatial directions. Data in an array is organized by X, then by Y, and lastly by Z, which results in data indexing being in the reverse order.  For example, a voxel that has spatial dimensions (nx, ny, nz) of (100, 65, 20) will be stored in a 3d array with shape (20, 65, 100).\n",
    "\n",
    "Note also that the Z direction is positive up, which means that a voxel origin, which is the center of the first cell (cell[0, 0, 0]) is the at the center of the deepest, lower-left cell in the voxel.\n",
    "\n",
    "In this example we will start with a simple indexed data array in which the value of each cell is the Z index."
   ]
  },
  {
   "cell_type": "code",
   "execution_count": 6,
   "metadata": {},
   "outputs": [
    {
     "data": {
      "image/png": "[encoded data removed]",
      "text/plain": [
       "<IPython.core.display.Image object>"
      ]
     },
     "execution_count": 6,
     "metadata": {},
     "output_type": "execute_result"
    }
   ],
   "source": [
    "# create a 3D data array in which each z slice is set to the z index\n",
    "data = np.empty((20, 65, 100), dtype=np.float64)\n",
    "for i in range(data.shape[0]):\n",
    "    data[i, :, :] = i\n",
    "    \n",
    "    \n",
    "# create a new voxel, and display\n",
    "with gxvox.Vox.new(name='my vox', data=data, overwrite=True) as vox:\n",
    "    vox_map_file = gxvoxd.Vox_display.new(vox).figure_map().file_name\n",
    "\n",
    "# create a PNG from the figure map and display in Jupyter\n",
    "Image(gxmap.Map.open(vox_map_file).image_file(pix_width=800))"
   ]
  },
  {
   "cell_type": "markdown",
   "metadata": {},
   "source": [
    "## Locate a new voxel spatially\n",
    "\n",
    "In the last example we created a voxel without true spatial dimensions. In this example we will scale the same voxel to have true spatial dimensions and be located at a known location on Earth. For this example we will assume that the voxels are 50 m square cells and the model is located on the NAD83 datum using projection UTM zone 19N."
   ]
  },
  {
   "cell_type": "code",
   "execution_count": 7,
   "metadata": {},
   "outputs": [
    {
     "data": {
      "image/png": "[encoded data removed]",
      "text/plain": [
       "<IPython.core.display.Image object>"
      ]
     },
     "execution_count": 7,
     "metadata": {},
     "output_type": "execute_result"
    }
   ],
   "source": [
    "# create voxel, and display\n",
    "with gxvox.Vox.new(name='my vox', \n",
    "                   data=data, \n",
    "                   overwrite=True, \n",
    "                   origin=(450025, 6800025, -975), # the origin is the center of the bottom cell[0, 0, 0]\n",
    "                   cell_size=50, \n",
    "                   coordinate_system='NAD83 / UTM zone 19N') as vox:\n",
    "    vox_map_file = gxvoxd.Vox_display.new(vox).figure_map(title=str(vox.coordinate_system)).file_name\n",
    "\n",
    "# create a PNG from the figure map and display in Jupyter\n",
    "Image(gxmap.Map.open(vox_map_file).image_file(pix_width=800))"
   ]
  },
  {
   "cell_type": "markdown",
   "metadata": {},
   "source": [
    "# Define a variable cell size\n",
    "\n",
    "Voxel cell sizes may vary along any dimension. For example, when defining a voxel model for geophysical modelling one might increase the vertical size of voxel as a function of depth.  To do this you can provide the cell dimensions as an array of dimensions along any, or all axis. In this example we will increase the cell size as a function of depth, with each deeper cell being 10% larger.\n",
    "\n",
    "In this example we will work referencing depth rather than elevation as it makes the cell depth calculation simpler."
   ]
  },
  {
   "cell_type": "code",
   "execution_count": 8,
   "metadata": {},
   "outputs": [
    {
     "data": {
      "image/png": "[encoded data removed]",
      "text/plain": [
       "<IPython.core.display.Image object>"
      ]
     },
     "execution_count": 8,
     "metadata": {},
     "output_type": "execute_result"
    }
   ],
   "source": [
    "nz = data.shape[0]\n",
    "cell = 50\n",
    "\n",
    "# create a z cell dimension increasing 10% as a function of depth (positive down)\n",
    "z_cell = [cell] * nz\n",
    "for i in range(1, nz):\n",
    "    z_cell[i] = cell * (1. + i * 0.1)\n",
    "    \n",
    "# create voxel, and display\n",
    "with gxvox.Vox.new(name='my vox', \n",
    "                   data=data, \n",
    "                   overwrite=True,\n",
    "                   depth=True, # work using z as depth\n",
    "                   origin=(450025, 6800025, 25), # the origin is the center of the top cell when working from depth \n",
    "                   cell_size=(cell, cell, z_cell), # the cell size array defines variable z cell sizes\n",
    "                   coordinate_system='NAD83 / UTM zone 19N') as vox:\n",
    "    vox_map_file = gxvoxd.Vox_display.new(vox).figure_map(title=str(vox.coordinate_system)).file_name\n",
    "\n",
    "# create a PNG from the figure map and display in Jupyter\n",
    "Image(gxmap.Map.open(vox_map_file).image_file(pix_width=800))"
   ]
  },
  {
   "cell_type": "code",
   "execution_count": 12,
   "metadata": {},
   "outputs": [
    {
     "data": {
      "text/plain": [
       "array([[[ 2.,  2.],\n",
       "        [ 2.,  2.],\n",
       "        [ 2.,  2.],\n",
       "        [ 2.,  2.]],\n",
       "\n",
       "       [[ 1.,  1.],\n",
       "        [ 1.,  1.],\n",
       "        [ 1.,  1.],\n",
       "        [ 1.,  1.]],\n",
       "\n",
       "       [[ 0.,  0.],\n",
       "        [ 0.,  0.],\n",
       "        [ 0.,  0.],\n",
       "        [ 0.,  0.]]])"
      ]
     },
     "execution_count": 12,
     "metadata": {},
     "output_type": "execute_result"
    }
   ],
   "source": [
    "n = np.zeros((3, 4, 2))\n",
    "n[0, :, :] = 0\n",
    "n[1, :, :] = 1\n",
    "n[2, :, :] = 2\n",
    "np.flip(n, 0)"
   ]
  },
  {
   "cell_type": "code",
   "execution_count": null,
   "metadata": {
    "collapsed": true
   },
   "outputs": [],
   "source": []
  }
 ],
 "metadata": {
  "kernelspec": {
   "display_name": "Python 3",
   "language": "python",
   "name": "python3"
  },
  "language_info": {
   "codemirror_mode": {
    "name": "ipython",
    "version": 3
   },
   "file_extension": ".py",
   "mimetype": "text/x-python",
   "name": "python",
   "nbconvert_exporter": "python",
   "pygments_lexer": "ipython3",
   "version": "3.6.2"
  }
 },
 "nbformat": 4,
 "nbformat_minor": 2
}
