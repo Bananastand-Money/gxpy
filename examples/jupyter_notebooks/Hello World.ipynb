{
 "cells": [
  {
   "cell_type": "markdown",
   "metadata": {},
   "source": [
    "# Hello World\n",
    "\n",
    "Create a GX Context and say hello!\n",
    "\n",
    "Every application must establish and hold the GX context.  There are many properties that are part of the context and one of these is the Geosoft ID of the person running the program."
   ]
  },
  {
   "cell_type": "code",
   "execution_count": 1,
   "metadata": {
    "collapsed": false
   },
   "outputs": [
    {
     "name": "stdout",
     "output_type": "stream",
     "text": [
      "Hello ian.macleod@geosoft.com\n"
     ]
    }
   ],
   "source": [
    "import geosoft.gxpy as gxpy\n",
    " \n",
    "# a GX context is required, and must be assigned to a variable that persists through the life of execution.\n",
    "gxc = gxpy.gx.GXpy()\n",
    " \n",
    "# gid is a property of the context that holds the user's Geosoft ID.  Say hello.\n",
    "print('Hello {}'.format(gxc.gid))"
   ]
  }
 ],
 "metadata": {
  "anaconda-cloud": {},
  "kernelspec": {
   "display_name": "Python [default]",
   "language": "python",
   "name": "python3"
  },
  "language_info": {
   "codemirror_mode": {
    "name": "ipython",
    "version": 3
   },
   "file_extension": ".py",
   "mimetype": "text/x-python",
   "name": "python",
   "nbconvert_exporter": "python",
   "pygments_lexer": "ipython3",
   "version": "3.5.2"
  }
 },
 "nbformat": 4,
 "nbformat_minor": 2
}
