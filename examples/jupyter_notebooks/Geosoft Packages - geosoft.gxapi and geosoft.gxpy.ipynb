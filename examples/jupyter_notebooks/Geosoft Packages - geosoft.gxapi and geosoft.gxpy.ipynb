{
 "cells": [
  {
   "cell_type": "markdown",
   "metadata": {},
   "source": [
    "The GX Developer Python installation includes two packages:\n",
    "\n",
    "| Module | Description |\n",
    "|:------:|:----------- |\n",
    "| geosoft.gxapi\t| This is the complete low-level GX API and includes all functions that are part of the standard Geosoft API.<br /><br/>This is a direct mapping of the API available to all development languages, and as such the API has a procedural style, which is not considered \"pythonic\". However, calling into the geosoft.gxapi does provide access to the complete Geosoft development environment as well as the highest level of version stability due the legacy of the Geosoft API.  The geosoft.gxapi is assured to be forward version compatible while the gxpy module is currently best-effort in this regard.<br\\>Usage of the geosoft.gxapi follows the same code patterns you will find in Geosoft's legacy GXs that are part of Geosoft Desktop. |\n",
    "| geosoft.gxpy | The geosoft.gxpy package contains a set of modules that a provide a higher-level and more approachable \"pythonic\" interface to underlying geosoft.gxapi. Many standard Python needs are included in the modules, and we suggest that straight-forward Python applications can and should work with mostly with the geosoft.gxpy package.<br\\><br\\>The geosoft.gxpy package covers only part of the full function of the geosoft.gxapi module and with each release of GX Developer Geosoft will continue to expand and extend geosoft.gxpy. |\n",
    "\n",
    "__See also:__ [tutorial page](https://geosoftgxdev.atlassian.net/wiki/spaces/GXD93/pages/103415861/Geosoft+Packages+-+geosoft.gxapi+and+geosoft.gxpy)"
   ]
  },
  {
   "cell_type": "markdown",
   "metadata": {},
   "source": [
    "## Get Data\n",
    "\n",
    "Download exercise data from the Geosoft GitHub repository."
   ]
  },
  {
   "cell_type": "code",
   "execution_count": 1,
   "metadata": {
    "collapsed": false
   },
   "outputs": [
    {
     "data": {
      "text/plain": [
       "'test.grd.gi'"
      ]
     },
     "execution_count": 1,
     "metadata": {},
     "output_type": "execute_result"
    }
   ],
   "source": [
    "import geosoft.gxpy.gx as gx\n",
    "import geosoft.gxpy.utility as gxu\n",
    "gxc = gx.GXpy()\n",
    "url = 'https://github.com/GeosoftInc/gxpy/raw/9.3/examples/tutorial/Geosoft%20modules%20-%20gxapi%20and%20gxpy/'\n",
    "gxu.url_retrieve(url + 'test.grd')\n",
    "gxu.url_retrieve(url + 'test.grd.gi')"
   ]
  },
  {
   "cell_type": "markdown",
   "metadata": {},
   "source": [
    "## GX API (geosoft.gxapi)\n",
    "\n",
    "The _geosoft.gxapi_ package provides a Python API to the entire Geosoft GX Developer low-level API.  The low-level API supports multiple languages and uses the legacy Geosoft object API, in which class instances are created using a _create()_ method that returns an object instance handle, which is in turn used to access the class methods.  This style of object-oriented programming was developed by Geosoft to support early C development.\n",
    "\n",
    "For example, the following Python script uses the _geosoft.gxapi_ to open a grid and report the grid dimensions and other grid details (the next section does the same thing using _geosoft.gxpy_):"
   ]
  },
  {
   "cell_type": "code",
   "execution_count": 2,
   "metadata": {
    "collapsed": false
   },
   "outputs": [
    {
     "name": "stdout",
     "output_type": "stream",
     "text": [
      "\n",
      " dimension (nx, ny): (191, 134) \n",
      " separation (x, y): (0.0002777777777777778, 0.0002777777777777778) \n",
      " origin (x, y): (139.20694444444442, -34.68944444444445) \n",
      " rotation: 0.0\n"
     ]
    }
   ],
   "source": [
    "import geosoft.gxapi as gxapi\n",
    "import geosoft.gxpy.utility as gxu\n",
    "\n",
    "gxc = gxapi.GXContext.create('grid_dimension', '0.1')\n",
    " \n",
    "# create an instance of the GXIMG class from grid file 'test.grd'\n",
    "img = gxapi.GXIMG.create_file(gxapi.GS_FLOAT,\n",
    "                              'test.grd(GRD)',\n",
    "                              gxapi.IMG_FILE_READONLY)\n",
    " \n",
    "# create reference items to support return immutable values from GXIMG.get_info()\n",
    "x_sep = gxapi.float_ref()\n",
    "y_sep = gxapi.float_ref()\n",
    "x_origin = gxapi.float_ref()\n",
    "y_origin = gxapi.float_ref()\n",
    "rotation = gxapi.float_ref()\n",
    "img.get_info(x_sep, y_sep, x_origin, y_origin, rotation)\n",
    " \n",
    "# report\n",
    "print('\\n dimension (nx, ny): ({}, {})'.format(img.nx(), img.ny()),\n",
    "      '\\n separation (x, y): ({}, {})'.format(x_sep.value, y_sep.value),\n",
    "      '\\n origin (x, y): ({}, {})'.format(x_origin.value, y_origin.value),\n",
    "      '\\n rotation: {}'.format(rotation.value))"
   ]
  },
  {
   "cell_type": "markdown",
   "metadata": {},
   "source": [
    "## GXPY (geosoft.gxpy)\n",
    "\n",
    "The _geosoft.gxpy_ package provides a pythonic interface to the lower-level GX API, and in doing so much of the complexity of dealing with the GX API and low-level classes has been coded into the _geosoft.gxpy_ classes.  For example, the following code reports the same information about a grid file as the example in the previous section:"
   ]
  },
  {
   "cell_type": "code",
   "execution_count": 3,
   "metadata": {
    "collapsed": false
   },
   "outputs": [
    {
     "name": "stdout",
     "output_type": "stream",
     "text": [
      " dimension (nx, ny): (191, 134) \n",
      " separation (x, y): (0.0002777777777777778, 0.0002777777777777778) \n",
      " origin (x, y): (139.20694444444442, -34.68944444444445) \n",
      " rotation: -0.0\n"
     ]
    }
   ],
   "source": [
    "import geosoft.gxpy as gxpy\n",
    " \n",
    "gxc = gxpy.gx.GXpy()\n",
    "grid = gxpy.grid.Grid.open('test.grd(GRD)')\n",
    " \n",
    "print(' dimension (nx, ny): ({}, {})'.format(grid.nx, grid.ny),\n",
    "      '\\n separation (x, y): ({}, {})'.format(grid.dx, grid.dy),\n",
    "      '\\n origin (x, y): ({}, {})'.format(grid.x0, grid.y0),\n",
    "      '\\n rotation: {}'.format(grid.rot))"
   ]
  },
  {
   "cell_type": "markdown",
   "metadata": {},
   "source": [
    "You will find that many gxpy classes map closely to underlying gxapi classes, but with a simpler, more consistent and often more flexible interface.  For example, instances of the _geosoft.gxpy.grid_ class map directly to a single instance of the _geosoft.gxapi.GXIMG class_. In these cases, one attribute of the gxpy instance will be the gxapi instance, usually with the lower-case name of the gxapi class.  For example, an instance of the _geosoft.gxpy.Grid_ class will have attribute _gximg_, which is an instance of the _geosoft.gxapi.GXIMG_ class.  This can be used to directly call a gxapi method to handle situations that are not handled by the gxpy module.  For example, to determine the compression ratio of a compressed grid, call the _gxapi.GXIMG.query_double()_ method using the _gximg_ attribute of the grid instance:"
   ]
  },
  {
   "cell_type": "code",
   "execution_count": 4,
   "metadata": {
    "collapsed": false
   },
   "outputs": [
    {
     "name": "stdout",
     "output_type": "stream",
     "text": [
      "compression ratio: 34.123512946116165\n"
     ]
    }
   ],
   "source": [
    "import geosoft.gxpy as gxpy\n",
    "import geosoft.gxapi as gxapi\n",
    " \n",
    "gxc = gxpy.gx.GXpy()\n",
    "grid = gxpy.grid.Grid.open('test.grd(GRD)')\n",
    " \n",
    "cr = grid.gximg.query_double(gxapi.IMG_QUERY_rCOMPRESSION_RATIO)\n",
    " \n",
    "print('compression ratio: {}'.format(cr))"
   ]
  }
 ],
 "metadata": {
  "anaconda-cloud": {},
  "kernelspec": {
   "display_name": "Python [default]",
   "language": "python",
   "name": "python3"
  },
  "language_info": {
   "codemirror_mode": {
    "name": "ipython",
    "version": 3
   },
   "file_extension": ".py",
   "mimetype": "text/x-python",
   "name": "python",
   "nbconvert_exporter": "python",
   "pygments_lexer": "ipython3",
   "version": "3.5.2"
  }
 },
 "nbformat": 4,
 "nbformat_minor": 2
}
