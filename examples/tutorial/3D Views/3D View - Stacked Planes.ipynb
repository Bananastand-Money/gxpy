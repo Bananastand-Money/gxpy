{
 "cells": [
  {
   "cell_type": "markdown",
   "metadata": {},
   "source": [
    "## Imports and GX Context"
   ]
  },
  {
   "cell_type": "code",
   "execution_count": null,
   "metadata": {
    "collapsed": true
   },
   "outputs": [],
   "source": [
    "import geosoft.gxpy.gx as gx\n",
    "import geosoft.gxpy.view as gxview\n",
    "import geosoft.gxpy.group as gxgroup\n",
    "import geosoft.gxpy.agg as gxagg\n",
    "import geosoft.gxpy.grid as gxgrd\n",
    "import geosoft.gxpy.viewer as gxviewer\n",
    "import geosoft.gxpy.utility as gxu\n",
    "import geosoft.gxpy.map as gxmap\n",
    "from IPython.display import Image\n",
    "\n",
    "gxc = gx.GXpy()"
   ]
  },
  {
   "cell_type": "markdown",
   "metadata": {},
   "source": [
    "## Get the Working Data from GitHub"
   ]
  },
  {
   "cell_type": "code",
   "execution_count": null,
   "metadata": {
    "collapsed": true
   },
   "outputs": [],
   "source": [
    "url = 'https://github.com/GeosoftInc/gxpy/raw/9.3/examples/tutorial/3D%20Views/'\n",
    "gxu.url_retrieve(url + 'Wittichica Creek Residual Total Field.grd')\n",
    "gxu.url_retrieve(url + 'Wittichica Creek Residual Total Field.grd.gi')\n",
    "gxu.url_retrieve(url + 'Wittichica Creek Residual Total Field.grd.xml')\n",
    "gxu.url_retrieve(url + 'Wittichica DEM.grd')\n",
    "gxu.url_retrieve(url + 'Wittichica DEM.grd.gi')\n",
    "gxu.url_retrieve(url + 'Wittichica DEM.grd.xml')\n",
    "\n",
    "tmi_file = 'Wittichica Creek Residual Total Field.grd'\n",
    "dem_file = 'Wittichica DEM.grd'"
   ]
  },
  {
   "cell_type": "markdown",
   "metadata": {},
   "source": [
    "## Create a 3D view with 3 planes"
   ]
  },
  {
   "cell_type": "code",
   "execution_count": null,
   "metadata": {
    "collapsed": true
   },
   "outputs": [],
   "source": [
    "with gxview.View_3d.new(\"TMI drapped on DEM\",\n",
    "                        area_2d=gxgrd.Grid.open(tmi_file).extent_2d(),\n",
    "                        coordinate_system=gxgrd.Grid.open(tmi_file).coordinate_system,\n",
    "                        scale=5000,\n",
    "                        overwrite=True) as v:\n",
    "\n",
    "    v3d_name = v.file_name\n",
    "\n",
    "    # use the DEM as the relief surface\n",
    "    v.set_plane_relief_surface(dem_file)\n",
    "    gxgroup.Aggregate_group.new(v, gxagg.Aggregate_image.new(dem_file,\n",
    "                                                             color_map='elevation.tbl'))\n",
    "\n",
    "    # relief plane for the TMI, offset to elevation 2000\n",
    "    v.new_drawing_plane('TMI relief')\n",
    "    v.set_plane_relief_surface(tmi_file, base=-4000)\n",
    "    gxgroup.Aggregate_group.new(v, gxagg.Aggregate_image.new(tmi_file))\n",
    "    gxgroup.contour(v, 'TMI_contour', tmi_file)\n",
    "\n",
    "    # add DEM contours on a plane floating beneath the DEM\n",
    "    v.new_drawing_plane('Scratch plane', offset=(0, 0, -2000))\n",
    "    gxgroup.contour(v, 'DEM contour', tmi_file)"
   ]
  },
  {
   "cell_type": "markdown",
   "metadata": {},
   "source": [
    "## Make a PNG and Display as an Image, and in the Geosoft Viewer"
   ]
  },
  {
   "cell_type": "code",
   "execution_count": null,
   "metadata": {},
   "outputs": [],
   "source": [
    "# create a PNG before opening the file as once open it will be locked\n",
    "png_file = '3d_stack.png'\n",
    "gxmap.save_as_image(v3d_name, png_file, pix_width=700)\n",
    "\n",
    "# open in the Geosoft viewer\n",
    "gxviewer.view_document(v3d_name, wait_for_close=False)\n",
    "\n",
    "# show the image here\n",
    "Image(png_file)"
   ]
  }
 ],
 "metadata": {
  "kernelspec": {
   "display_name": "Python 3",
   "language": "python",
   "name": "python3"
  },
  "language_info": {
   "codemirror_mode": {
    "name": "ipython",
    "version": 3
   },
   "file_extension": ".py",
   "mimetype": "text/x-python",
   "name": "python",
   "nbconvert_exporter": "python",
   "pygments_lexer": "ipython3",
   "version": "3.6.2"
  }
 },
 "nbformat": 4,
 "nbformat_minor": 2
}
